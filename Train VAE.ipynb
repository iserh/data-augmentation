{
 "cells": [
  {
   "cell_type": "markdown",
   "id": "peaceful-employment",
   "metadata": {},
   "source": [
    "# Training a VAE"
   ]
  },
  {
   "cell_type": "markdown",
   "id": "separated-destiny",
   "metadata": {},
   "source": [
    "### Imports"
   ]
  },
  {
   "cell_type": "code",
   "execution_count": null,
   "id": "received-market",
   "metadata": {},
   "outputs": [],
   "source": [
    "import torch\n",
    "import mlflow\n",
    "import vae\n",
    "from utils.mlflow import backend_stores\n",
    "from utils.trainer import TrainingArguments\n",
    "from vae.models import VAEConfig\n",
    "from vae.models.architectures import VAEModelV1\n",
    "from vae import train_vae_on_dataset\n",
    "\n",
    "from utils.data import load_datasets\n",
    "vae.models.base.model_store = \"pretrained_models/MNIST\""
   ]
  },
  {
   "cell_type": "markdown",
   "id": "manufactured-cotton",
   "metadata": {},
   "source": [
    "### Seeding, loading data & setting up mlflow logging"
   ]
  },
  {
   "cell_type": "code",
   "execution_count": null,
   "id": "computational-compromise",
   "metadata": {},
   "outputs": [],
   "source": [
    "DATASET = \"MNIST\"\n",
    "SEED = 1337\n",
    "\n",
    "# set the backend store uri of mlflow\n",
    "mlflow.set_tracking_uri(getattr(backend_stores, DATASET))\n",
    "# seed torch\n",
    "torch.manual_seed(SEED)\n",
    "# load datasets\n",
    "train_dataset, vae_train_dataset, val_dataset, test_dataset = load_datasets(DATASET)\n",
    "print(len(train_dataset), len(vae_train_dataset), len(test_dataset))"
   ]
  },
  {
   "cell_type": "markdown",
   "id": "sitting-sound",
   "metadata": {},
   "source": [
    "### VAE Parameters"
   ]
  },
  {
   "cell_type": "code",
   "execution_count": null,
   "id": "pediatric-twins",
   "metadata": {},
   "outputs": [],
   "source": [
    "EPOCHS = 50\n",
    "Z_DIM = 2\n",
    "BETA = 1.0"
   ]
  },
  {
   "cell_type": "markdown",
   "id": "prospective-genetics",
   "metadata": {},
   "source": [
    "## Training the VAE"
   ]
  },
  {
   "cell_type": "code",
   "execution_count": null,
   "id": "extreme-regulation",
   "metadata": {},
   "outputs": [],
   "source": [
    "# set mlflow experiment\n",
    "mlflow.set_experiment(f\"Z_DIM {Z_DIM}\")\n",
    "# create a vae config\n",
    "vae_config = VAEConfig(z_dim=Z_DIM, beta=BETA)\n",
    "# train vae\n",
    "train_vae_on_dataset(\n",
    "    training_args=TrainingArguments(EPOCHS, seed=SEED, batch_size=64),\n",
    "    train_dataset=vae_train_dataset,\n",
    "    test_dataset=val_dataset,\n",
    "    vae_config=vae_config,\n",
    "    model_architecture=VAEModelV1,\n",
    "    save_every_n_epochs=25,\n",
    "    seed=SEED,\n",
    ")"
   ]
  }
 ],
 "metadata": {
  "kernelspec": {
   "display_name": "Python 3",
   "language": "python",
   "name": "python3"
  },
  "language_info": {
   "codemirror_mode": {
    "name": "ipython",
    "version": 3
   },
   "file_extension": ".py",
   "mimetype": "text/x-python",
   "name": "python",
   "nbconvert_exporter": "python",
   "pygments_lexer": "ipython3",
   "version": "3.8.0"
  }
 },
 "nbformat": 4,
 "nbformat_minor": 5
}
