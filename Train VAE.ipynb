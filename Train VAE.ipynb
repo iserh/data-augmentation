{
 "cells": [
  {
   "cell_type": "markdown",
   "id": "peaceful-employment",
   "metadata": {},
   "source": [
    "# Training a VAE"
   ]
  },
  {
   "cell_type": "markdown",
   "id": "separated-destiny",
   "metadata": {},
   "source": [
    "### Imports"
   ]
  },
  {
   "cell_type": "code",
   "execution_count": 1,
   "id": "received-market",
   "metadata": {},
   "outputs": [],
   "source": [
    "import torch\n",
    "import mlflow\n",
    "from utils.mlflow import backend_stores\n",
    "from utils.trainer import TrainingArguments\n",
    "from vae.models import VAEConfig\n",
    "from vae.models.architectures import VAEModelV2\n",
    "from vae import train_vae_on_dataset\n",
    "\n",
    "from utils.data import load_datasets"
   ]
  },
  {
   "cell_type": "markdown",
   "id": "manufactured-cotton",
   "metadata": {},
   "source": [
    "### Seeding, loading data & setting up mlflow logging"
   ]
  },
  {
   "cell_type": "code",
   "execution_count": 2,
   "id": "computational-compromise",
   "metadata": {},
   "outputs": [],
   "source": [
    "DATASET = \"CIFAR10\"\n",
    "DATASET_LIMIT = 50\n",
    "SEED = 1337\n",
    "\n",
    "# set the backend store uri of mlflow\n",
    "mlflow.set_tracking_uri(getattr(backend_stores, DATASET))\n",
    "# seed torch\n",
    "torch.manual_seed(SEED)\n",
    "# load datasets\n",
    "train_dataset, vae_train_dataset, val_dataset, test_dataset = load_datasets(DATASET)"
   ]
  },
  {
   "cell_type": "markdown",
   "id": "sitting-sound",
   "metadata": {},
   "source": [
    "### VAE Parameters"
   ]
  },
  {
   "cell_type": "code",
   "execution_count": 3,
   "id": "pediatric-twins",
   "metadata": {},
   "outputs": [],
   "source": [
    "EPOCHS = 500\n",
    "Z_DIM = 50\n",
    "BETA = 1.0"
   ]
  },
  {
   "cell_type": "markdown",
   "id": "prospective-genetics",
   "metadata": {},
   "source": [
    "## Training the VAE"
   ]
  },
  {
   "cell_type": "code",
   "execution_count": null,
   "id": "extreme-regulation",
   "metadata": {},
   "outputs": [
    {
     "name": "stdout",
     "output_type": "stream",
     "text": [
      "Training VAE on dataset\n"
     ]
    },
    {
     "name": "stderr",
     "output_type": "stream",
     "text": [
      "Training epoch 179:  36%|███▌      | 119008/332500 [31:41<52:26, 67.84it/s, bce_l=1803.66, kl_l=51.87]  "
     ]
    }
   ],
   "source": [
    "# set mlflow experiment\n",
    "mlflow.set_experiment(f\"Z_DIM {Z_DIM}\")\n",
    "# create a vae config\n",
    "vae_config = VAEConfig(z_dim=Z_DIM, beta=BETA)\n",
    "# train vae\n",
    "train_vae_on_dataset(\n",
    "    training_args=TrainingArguments(EPOCHS, seed=SEED, batch_size=64),\n",
    "    train_dataset=vae_train_dataset,\n",
    "    test_dataset=val_dataset,\n",
    "    vae_config=vae_config,\n",
    "    model_architecture=VAEModelV2,\n",
    "    save_every_n_epochs=25,\n",
    "    seed=SEED,\n",
    ")"
   ]
  }
 ],
 "metadata": {
  "kernelspec": {
   "display_name": "Python 3",
   "language": "python",
   "name": "python3"
  },
  "language_info": {
   "codemirror_mode": {
    "name": "ipython",
    "version": 3
   },
   "file_extension": ".py",
   "mimetype": "text/x-python",
   "name": "python",
   "nbconvert_exporter": "python",
   "pygments_lexer": "ipython3",
   "version": "3.8.0"
  }
 },
 "nbformat": 4,
 "nbformat_minor": 5
}
