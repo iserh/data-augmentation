{
 "cells": [
  {
   "cell_type": "code",
   "execution_count": null,
   "id": "frozen-wrapping",
   "metadata": {},
   "outputs": [],
   "source": [
    "from utils.data import load_datasets\n",
    "from vae.generation import Generator, augmentations\n",
    "from vae.models import VAEConfig, VAEForDataAugmentation\n",
    "import vae\n",
    "vae.models.base.model_store = \"pretrained_models/MNIST\""
   ]
  },
  {
   "cell_type": "code",
   "execution_count": null,
   "id": "forward-onion",
   "metadata": {},
   "outputs": [],
   "source": [
    "vae = VAEForDataAugmentation.from_pretrained(VAEConfig(z_dim=2, beta=1.0), epochs=50)\n",
    "dataset, vae_dataset, _, _ = load_datasets(\"MNIST\")"
   ]
  },
  {
   "cell_type": "code",
   "execution_count": null,
   "id": "controlling-species",
   "metadata": {},
   "outputs": [],
   "source": [
    "latents, _, labels = vae.encode_dataset(vae_dataset).tensors"
   ]
  },
  {
   "cell_type": "code",
   "execution_count": null,
   "id": "accessory-index",
   "metadata": {},
   "outputs": [],
   "source": [
    "from vae.visualization import visualize_latents\n",
    "fig = visualize_latents(latents, targets=labels, color_by_target=True)\n",
    "fig.show()"
   ]
  }
 ],
 "metadata": {
  "kernelspec": {
   "display_name": "Python 3",
   "language": "python",
   "name": "python3"
  },
  "language_info": {
   "codemirror_mode": {
    "name": "ipython",
    "version": 3
   },
   "file_extension": ".py",
   "mimetype": "text/x-python",
   "name": "python",
   "nbconvert_exporter": "python",
   "pygments_lexer": "ipython3",
   "version": "3.8.0"
  }
 },
 "nbformat": 4,
 "nbformat_minor": 5
}
