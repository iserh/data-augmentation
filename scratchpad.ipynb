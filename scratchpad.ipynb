{
 "cells": [
  {
   "cell_type": "code",
   "execution_count": null,
   "id": "collected-terminology",
   "metadata": {},
   "outputs": [],
   "source": [
    "import vae\n",
    "from utils.data.split_datasets import load_splitted_datasets\n",
    "from vae.generation import augmentations\n",
    "from vae.generation2 import DataAugmentation\n",
    "from vae.models import VAEConfig\n",
    "from vae.visualization import visualize_images\n",
    "from torch.utils.data import DataLoader"
   ]
  },
  {
   "cell_type": "code",
   "execution_count": null,
   "id": "frozen-wrapping",
   "metadata": {},
   "outputs": [],
   "source": [
    "DATASET = \"MNIST\"\n",
    "vae.models.base.model_store = \"pretrained_models/MNIST\"\n",
    "VAE_CONFIG = VAEConfig(z_dim=10, beta=1.0)\n",
    "VAE_EPOCHS = 50\n",
    "MULTI_VAE = False\n",
    "SEED = 1337\n",
    "K = 200\n",
    "\n",
    "datasets, dataset_info = load_splitted_datasets(DATASET)\n",
    "\n",
    "da = DataAugmentation(\n",
    "    vae_config=VAE_CONFIG,\n",
    "    vae_epochs=VAE_EPOCHS,\n",
    "    multi_vae=MULTI_VAE,\n",
    "    seed=SEED,\n",
    ")\n",
    "\n",
    "print(\", \".join([str(len(ds)) for ds in datasets]))\n",
    "print(sum([len(ds) for ds in datasets]))\n",
    "\n",
    "generated_datasets = da.augment_datasets(datasets, dataset_info, augmentations.REPARAMETRIZATION, K=K, balancing=False)\n",
    "\n",
    "print(\", \".join([str(len(ds)) for ds in generated_datasets]))\n",
    "print(sum([len(ds) for ds in generated_datasets]))"
   ]
  },
  {
   "cell_type": "code",
   "execution_count": null,
   "id": "listed-jewelry",
   "metadata": {},
   "outputs": [],
   "source": [
    "visualize_images(generated_datasets.tensors[0], n=50)"
   ]
  }
 ],
 "metadata": {
  "kernelspec": {
   "display_name": "Python 3",
   "language": "python",
   "name": "python3"
  },
  "language_info": {
   "codemirror_mode": {
    "name": "ipython",
    "version": 3
   },
   "file_extension": ".py",
   "mimetype": "text/x-python",
   "name": "python",
   "nbconvert_exporter": "python",
   "pygments_lexer": "ipython3",
   "version": "3.8.0"
  }
 },
 "nbformat": 4,
 "nbformat_minor": 5
}
