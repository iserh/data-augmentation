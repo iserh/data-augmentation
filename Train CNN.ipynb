{
 "cells": [
  {
   "cell_type": "markdown",
   "id": "guilty-tracy",
   "metadata": {},
   "source": [
    "# Training a CNN classifier with VAE augmented data"
   ]
  },
  {
   "cell_type": "markdown",
   "id": "intermediate-carter",
   "metadata": {},
   "source": [
    "### Imports"
   ]
  },
  {
   "cell_type": "code",
   "execution_count": null,
   "id": "dental-learning",
   "metadata": {},
   "outputs": [],
   "source": [
    "import mlflow\n",
    "import torch\n",
    "import vae\n",
    "from utils.mlflow import backend_stores\n",
    "from utils.trainer import TrainingArguments\n",
    "from vae.generation import Generator, augmentations\n",
    "from vae.models import VAEConfig\n",
    "from evaluation.models import CNNMNIST\n",
    "from evaluation.train_utils import train_model\n",
    "from utils.data import load_datasets\n",
    "\n",
    "vae.models.base.model_store = \"pretrained_models/MNIST\""
   ]
  },
  {
   "cell_type": "markdown",
   "id": "atlantic-honduras",
   "metadata": {},
   "source": [
    "### Seeding, loading data & setting up mlflow logging"
   ]
  },
  {
   "cell_type": "code",
   "execution_count": null,
   "id": "exclusive-purchase",
   "metadata": {},
   "outputs": [],
   "source": [
    "SEED = 1337\n",
    "DATASET = \"MNIST\"\n",
    "# set the backend store uri of mlflow\n",
    "mlflow.set_tracking_uri(getattr(backend_stores, DATASET))\n",
    "# seed torch\n",
    "torch.manual_seed(SEED)\n",
    "# load datasets\n",
    "train_dataset, _, val_dataset, test_dataset = load_datasets(DATASET)"
   ]
  },
  {
   "cell_type": "markdown",
   "id": "victorian-amplifier",
   "metadata": {},
   "source": [
    "### The parameters for the classification task"
   ]
  },
  {
   "cell_type": "code",
   "execution_count": null,
   "id": "flush-melbourne",
   "metadata": {},
   "outputs": [],
   "source": [
    "training_args = TrainingArguments(\n",
    "    total_steps=5000,\n",
    "    batch_size=32,\n",
    "    validation_intervall=200,\n",
    "    save_model=False,\n",
    "    seed=SEED,\n",
    "    early_stopping=False,\n",
    "    early_stopping_window=20,\n",
    "    save_best_metric=\"best_acc\",\n",
    ")"
   ]
  },
  {
   "cell_type": "markdown",
   "id": "adverse-still",
   "metadata": {},
   "source": [
    "### Parameters for data augmentation"
   ]
  },
  {
   "cell_type": "code",
   "execution_count": null,
   "id": "elect-stake",
   "metadata": {},
   "outputs": [],
   "source": [
    "MULTI_VAE = False\n",
    "VAE_EPOCHS = 50\n",
    "Z_DIM = 2\n",
    "BETA = 1.0\n",
    "AUGMENTATION = augmentations.REPARAMETRIZATION\n",
    "augmentation_params = {\"K\": 450}"
   ]
  },
  {
   "cell_type": "markdown",
   "id": "turned-encounter",
   "metadata": {},
   "source": [
    "## Training the CNN"
   ]
  },
  {
   "cell_type": "code",
   "execution_count": null,
   "id": "fewer-teacher",
   "metadata": {},
   "outputs": [],
   "source": [
    "# create a vae config\n",
    "vae_config = VAEConfig(z_dim=Z_DIM, beta=BETA)\n",
    "# start mlflow run in experiment\n",
    "mlflow.set_experiment(f\"CNN Z_DIM {Z_DIM}\" if AUGMENTATION else \"CNN Baseline\")\n",
    "with mlflow.start_run(run_name=AUGMENTATION or \"baseline\"):\n",
    "    # perform data augmentation if specified\n",
    "    if AUGMENTATION is not None:\n",
    "        gen = Generator(\n",
    "            vae_config,\n",
    "            VAE_EPOCHS,\n",
    "            MULTI_VAE,\n",
    "            SEED,\n",
    "        )\n",
    "        train_dataset = gen.augment_dataset(train_dataset, AUGMENTATION, **augmentation_params)\n",
    "\n",
    "    # train cnn\n",
    "    results = train_model(\n",
    "        model=CNNMNIST(),\n",
    "        training_args=training_args,\n",
    "        train_dataset=train_dataset,\n",
    "        dev_dataset=val_dataset,\n",
    "        test_dataset=test_dataset,\n",
    "        seed=SEED,\n",
    "    )\n",
    "    # print the results\n",
    "    print(results)"
   ]
  }
 ],
 "metadata": {
  "kernelspec": {
   "display_name": "Python 3",
   "language": "python",
   "name": "python3"
  },
  "language_info": {
   "codemirror_mode": {
    "name": "ipython",
    "version": 3
   },
   "file_extension": ".py",
   "mimetype": "text/x-python",
   "name": "python",
   "nbconvert_exporter": "python",
   "pygments_lexer": "ipython3",
   "version": "3.8.0"
  }
 },
 "nbformat": 4,
 "nbformat_minor": 5
}
