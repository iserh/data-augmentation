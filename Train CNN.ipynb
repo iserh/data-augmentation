{
 "cells": [
  {
   "cell_type": "markdown",
   "id": "guilty-tracy",
   "metadata": {},
   "source": [
    "# Training a CNN classifier with VAE augmented data"
   ]
  },
  {
   "cell_type": "markdown",
   "id": "intermediate-carter",
   "metadata": {},
   "source": [
    "### Imports"
   ]
  },
  {
   "cell_type": "code",
   "execution_count": 1,
   "id": "dental-learning",
   "metadata": {},
   "outputs": [],
   "source": [
    "import mlflow\n",
    "import torch\n",
    "import vae\n",
    "from utils.mlflow import backend_stores\n",
    "from utils.trainer import TrainingArguments\n",
    "from vae.generation import augment_dataset_using_per_class_vaes, augment_dataset_using_single_vae, augmentations\n",
    "from vae.models import VAEConfig\n",
    "from evaluation.models import CNNMNIST\n",
    "from evaluation.train_utils import train_model\n",
    "from utils.data import load_datasets\n",
    "\n",
    "vae.models.base.model_store = \"pretrained_models/MNIST\""
   ]
  },
  {
   "cell_type": "markdown",
   "id": "atlantic-honduras",
   "metadata": {},
   "source": [
    "### Seeding, loading data & setting up mlflow logging"
   ]
  },
  {
   "cell_type": "code",
   "execution_count": 2,
   "id": "exclusive-purchase",
   "metadata": {},
   "outputs": [],
   "source": [
    "SEED = 1337\n",
    "DATASET = \"MNIST\"\n",
    "DATASET_LIMIT = 50\n",
    "# set the backend store uri of mlflow\n",
    "mlflow.set_tracking_uri(getattr(backend_stores, DATASET))\n",
    "# seed torch\n",
    "torch.manual_seed(SEED)\n",
    "# load datasets\n",
    "train_dataset, vae_train_dataset, val_dataset, test_dataset = load_datasets(DATASET)"
   ]
  },
  {
   "cell_type": "markdown",
   "id": "victorian-amplifier",
   "metadata": {},
   "source": [
    "### The parameters for the classification task"
   ]
  },
  {
   "cell_type": "code",
   "execution_count": 3,
   "id": "flush-melbourne",
   "metadata": {},
   "outputs": [],
   "source": [
    "training_args = TrainingArguments(\n",
    "    total_steps=5000,\n",
    "    batch_size=32,\n",
    "    validation_intervall=200,\n",
    "    save_model=False,\n",
    "    seed=SEED,\n",
    "    early_stopping=False,\n",
    "    early_stopping_window=20,\n",
    "    save_best_metric=\"best_acc\",\n",
    ")"
   ]
  },
  {
   "cell_type": "markdown",
   "id": "adverse-still",
   "metadata": {},
   "source": [
    "### Parameters for data augmentation"
   ]
  },
  {
   "cell_type": "code",
   "execution_count": 4,
   "id": "elect-stake",
   "metadata": {},
   "outputs": [],
   "source": [
    "MULTI_VAE = False\n",
    "VAE_EPOCHS = 100\n",
    "Z_DIM = 10\n",
    "BETA = 1.0\n",
    "AUGMENTATION = None\n",
    "augmentation_params = {\"k\": 9}"
   ]
  },
  {
   "cell_type": "code",
   "execution_count": 5,
   "id": "desirable-layout",
   "metadata": {},
   "outputs": [],
   "source": [
    "#from utils.data import create_train_dataset\n",
    "#create_train_dataset(\"MNIST\", 50, 1338)"
   ]
  },
  {
   "cell_type": "markdown",
   "id": "turned-encounter",
   "metadata": {},
   "source": [
    "## Training the CNN"
   ]
  },
  {
   "cell_type": "code",
   "execution_count": 6,
   "id": "fewer-teacher",
   "metadata": {},
   "outputs": [
    {
     "name": "stdout",
     "output_type": "stream",
     "text": [
      "INFO: 'CNN Baseline' does not exist. Creating a new experiment\n",
      "\n"
     ]
    },
    {
     "name": "stderr",
     "output_type": "stream",
     "text": [
      "Training epoch 2500: 100%|██████████| 5000/5000 [08:49<00:00,  9.43it/s, loss=0.05]"
     ]
    },
    {
     "name": "stdout",
     "output_type": "stream",
     "text": [
      "Evaluating model.\n"
     ]
    },
    {
     "name": "stderr",
     "output_type": "stream",
     "text": [
      "\n"
     ]
    },
    {
     "name": "stdout",
     "output_type": "stream",
     "text": [
      "{'eval_loss': 1.2057771896362304, 'eval_acc': 0.7537, 'eval_f1': 0.7536013372046073, 'eval_best_acc': 0.7537}\n"
     ]
    }
   ],
   "source": [
    "# create a vae config\n",
    "vae_config = VAEConfig(z_dim=Z_DIM, beta=BETA)\n",
    "# start mlflow run in experiment\n",
    "mlflow.set_experiment(f\"CNN Z_DIM {Z_DIM}\" if AUGMENTATION else \"CNN Baseline\")\n",
    "print(\"Training CNN\" + f\" augmented with {Z_DIM=}, {BETA=}, {VAE_EPOCHS=}\" if AUGMENTATION is not None else \"\")\n",
    "with mlflow.start_run(run_name=AUGMENTATION or \"baseline\"):\n",
    "    # log dataset limit\n",
    "    mlflow.log_param(\"dataset_limit\", DATASET_LIMIT)\n",
    "    # perform data augmentation if specified\n",
    "    if AUGMENTATION is not None:\n",
    "        # log MULTI_VAE flag\n",
    "        mlflow.log_param(\"multi_vae\", MULTI_VAE)\n",
    "        # log vae epochs\n",
    "        mlflow.log_param(\"vae_epochs\", VAE_EPOCHS)\n",
    "        # if MULTI_VAE, augment data of each label seperately\n",
    "        if MULTI_VAE:\n",
    "            train_dataset = augment_dataset_using_per_class_vaes(\n",
    "                train_dataset, vae_config, VAE_EPOCHS, AUGMENTATION, augmentation_params, seed=SEED\n",
    "            )\n",
    "        # else: conventional vae data augmentation\n",
    "        else:\n",
    "            train_dataset = augment_dataset_using_single_vae(\n",
    "                train_dataset, vae_config, VAE_EPOCHS, AUGMENTATION, augmentation_params, seed=SEED\n",
    "            )\n",
    "    # train cnn\n",
    "    results = train_model(\n",
    "        model=CNNMNIST(),\n",
    "        training_args=training_args,\n",
    "        train_dataset=train_dataset,\n",
    "        dev_dataset=val_dataset,\n",
    "        test_dataset=test_dataset,\n",
    "        seed=SEED,\n",
    "    )\n",
    "    # print the results\n",
    "    print(results)"
   ]
  }
 ],
 "metadata": {
  "kernelspec": {
   "display_name": "Python 3",
   "language": "python",
   "name": "python3"
  },
  "language_info": {
   "codemirror_mode": {
    "name": "ipython",
    "version": 3
   },
   "file_extension": ".py",
   "mimetype": "text/x-python",
   "name": "python",
   "nbconvert_exporter": "python",
   "pygments_lexer": "ipython3",
   "version": "3.8.0"
  }
 },
 "nbformat": 4,
 "nbformat_minor": 5
}
