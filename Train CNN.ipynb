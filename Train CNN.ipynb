{
 "cells": [
  {
   "cell_type": "markdown",
   "id": "guilty-tracy",
   "metadata": {},
   "source": [
    "# Training a CNN classifier with VAE augmented data"
   ]
  },
  {
   "cell_type": "markdown",
   "id": "intermediate-carter",
   "metadata": {},
   "source": [
    "### Imports"
   ]
  },
  {
   "cell_type": "code",
   "execution_count": 1,
   "id": "dental-learning",
   "metadata": {},
   "outputs": [],
   "source": [
    "import mlflow\n",
    "import torch\n",
    "import vae\n",
    "from utils.mlflow import backend_stores\n",
    "from utils.trainer import TrainingArguments\n",
    "from vae.models import VAEConfig\n",
    "from evaluation.models import CNNMNIST\n",
    "from evaluation.train_utils import train_model\n",
    "from utils.data import get_dataset, load_splitted_datasets\n",
    "from vae.generation import augmentations\n",
    "from vae.generation2 import DataAugmentation\n",
    "from torch.utils.data import ConcatDataset"
   ]
  },
  {
   "cell_type": "markdown",
   "id": "atlantic-honduras",
   "metadata": {},
   "source": [
    "### Seeding, loading data & setting up mlflow logging"
   ]
  },
  {
   "cell_type": "code",
   "execution_count": 2,
   "id": "exclusive-purchase",
   "metadata": {},
   "outputs": [],
   "source": [
    "SEED = 1337\n",
    "DATASET = \"MNIST\"\n",
    "# seed torch\n",
    "torch.manual_seed(SEED)\n",
    "# set model store path\n",
    "vae.models.base.model_store = \"pretrained_models/MNIST\"\n",
    "# set the backend store uri of mlflow\n",
    "mlflow.set_tracking_uri(getattr(backend_stores, DATASET))"
   ]
  },
  {
   "cell_type": "markdown",
   "id": "adverse-still",
   "metadata": {},
   "source": [
    "### Parameters for data augmentation"
   ]
  },
  {
   "cell_type": "code",
   "execution_count": 3,
   "id": "elect-stake",
   "metadata": {},
   "outputs": [],
   "source": [
    "MULTI_VAE = False\n",
    "VAE_EPOCHS = 100\n",
    "Z_DIM = 10\n",
    "BETA = 1.0\n",
    "AUGMENTATION = augmentations.REPARAMETRIZATION\n",
    "K = 450\n",
    "augmentation_params = {}"
   ]
  },
  {
   "cell_type": "markdown",
   "id": "located-accountability",
   "metadata": {},
   "source": [
    "## Data Augmentation"
   ]
  },
  {
   "cell_type": "code",
   "execution_count": 4,
   "id": "charming-tattoo",
   "metadata": {},
   "outputs": [
    {
     "name": "stdout",
     "output_type": "stream",
     "text": [
      "5, 5, 5, 5, 5, 5, 5, 5, 5, 5\n",
      "50\n"
     ]
    },
    {
     "name": "stderr",
     "output_type": "stream",
     "text": [
      "                                               "
     ]
    },
    {
     "name": "stdout",
     "output_type": "stream",
     "text": [
      "n = 10\n",
      "x = tensor([0.1000, 0.1000, 0.1000, 0.1000, 0.1000, 0.1000, 0.1000, 0.1000, 0.1000,\n",
      "        0.1000])\n",
      "L = tensor([45, 45, 45, 45, 45, 45, 45, 45, 45, 45])\n",
      "45, 45, 45, 45, 45, 45, 45, 45, 45, 45\n",
      "450\n"
     ]
    },
    {
     "name": "stderr",
     "output_type": "stream",
     "text": [
      "\r"
     ]
    }
   ],
   "source": [
    "datasets, dataset_info = load_splitted_datasets(DATASET)\n",
    "\n",
    "mlflow.set_experiment(f\"CNN Z_DIM {Z_DIM}\" if AUGMENTATION else \"CNN Baseline\")\n",
    "with mlflow.start_run(run_name=AUGMENTATION or \"baseline\") as run:\n",
    "    if AUGMENTATION is not None:\n",
    "        da = DataAugmentation(\n",
    "            vae_config=VAEConfig(z_dim=Z_DIM, beta=BETA),\n",
    "            vae_epochs=VAE_EPOCHS,\n",
    "            multi_vae=MULTI_VAE,\n",
    "            seed=SEED,\n",
    "        )\n",
    "\n",
    "        print(\", \".join([str(len(ds)) for ds in datasets]))\n",
    "        print(sum([len(ds) for ds in datasets]))\n",
    "\n",
    "        generated_datasets = da.augment_datasets(datasets, dataset_info, AUGMENTATION, K=K, **augmentation_params)\n",
    "\n",
    "        print(\", \".join([str(len(ds)) for ds in generated_datasets]))\n",
    "        print(sum([len(ds) for ds in generated_datasets]))\n",
    "\n",
    "        augmented_dataset = ConcatDataset([*datasets, *generated_datasets])\n",
    "    else:\n",
    "        augmented_dataset = ConcatDataset([*datasets])\n",
    "\n",
    "test_dataset = get_dataset(DATASET, train=False)"
   ]
  },
  {
   "cell_type": "markdown",
   "id": "victorian-amplifier",
   "metadata": {},
   "source": [
    "### The parameters for the classification task"
   ]
  },
  {
   "cell_type": "code",
   "execution_count": 5,
   "id": "flush-melbourne",
   "metadata": {},
   "outputs": [],
   "source": [
    "training_args = TrainingArguments(\n",
    "    total_steps=5000,\n",
    "    batch_size=32,\n",
    "    validation_intervall=200,\n",
    "    save_model=False,\n",
    "    seed=SEED,\n",
    "    early_stopping=False,\n",
    "    early_stopping_window=20,\n",
    "    save_best_metric=\"best_acc\",\n",
    ")"
   ]
  },
  {
   "cell_type": "markdown",
   "id": "turned-encounter",
   "metadata": {},
   "source": [
    "## Training the CNN"
   ]
  },
  {
   "cell_type": "code",
   "execution_count": 6,
   "id": "fewer-teacher",
   "metadata": {},
   "outputs": [
    {
     "name": "stderr",
     "output_type": "stream",
     "text": [
      "Training epoch 313: 100%|██████████| 5000/5000 [01:46<00:00, 47.10it/s, loss=0.01]"
     ]
    },
    {
     "name": "stdout",
     "output_type": "stream",
     "text": [
      "Evaluating model.\n"
     ]
    },
    {
     "name": "stderr",
     "output_type": "stream",
     "text": [
      "\n"
     ]
    },
    {
     "name": "stdout",
     "output_type": "stream",
     "text": [
      "{'eval_loss': 0.9655145559310913, 'eval_acc': 0.8398, 'eval_f1': 0.836845494129255}\n"
     ]
    }
   ],
   "source": [
    "# create a vae config\n",
    "vae_config = VAEConfig(z_dim=Z_DIM, beta=BETA)\n",
    "# start mlflow run in experiment\n",
    "with mlflow.start_run(run.info.run_id):\n",
    "    # train cnn\n",
    "    results = train_model(\n",
    "        model=CNNMNIST(),\n",
    "        training_args=training_args,\n",
    "        train_dataset=augmented_dataset,\n",
    "        dev_dataset=test_dataset,\n",
    "        test_dataset=test_dataset,\n",
    "        seed=SEED,\n",
    "    )\n",
    "    # print the results\n",
    "    print(results)"
   ]
  }
 ],
 "metadata": {
  "kernelspec": {
   "display_name": "Python 3",
   "language": "python",
   "name": "python3"
  },
  "language_info": {
   "codemirror_mode": {
    "name": "ipython",
    "version": 3
   },
   "file_extension": ".py",
   "mimetype": "text/x-python",
   "name": "python",
   "nbconvert_exporter": "python",
   "pygments_lexer": "ipython3",
   "version": "3.8.0"
  }
 },
 "nbformat": 4,
 "nbformat_minor": 5
}
